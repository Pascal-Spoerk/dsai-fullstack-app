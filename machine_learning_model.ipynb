{
 "cells": [
  {
   "cell_type": "code",
   "execution_count": 22,
   "id": "97c2786c",
   "metadata": {},
   "outputs": [],
   "source": [
    "import pandas as pd\n",
    "from sklearn.model_selection import train_test_split\n",
    "from sklearn.ensemble import RandomForestRegressor\n",
    "from sklearn.metrics import mean_squared_error, r2_score"
   ]
  },
  {
   "cell_type": "markdown",
   "id": "fc52a87e",
   "metadata": {},
   "source": [
    "Load Datasets"
   ]
  },
  {
   "cell_type": "code",
   "execution_count": 23,
   "id": "6471ddda",
   "metadata": {},
   "outputs": [],
   "source": [
    "mat = pd.read_csv(\"dataset/student-mat.csv\", sep=\";\")\n",
    "por = pd.read_csv(\"dataset/student-por.csv\", sep=\";\")"
   ]
  },
  {
   "cell_type": "code",
   "execution_count": 25,
   "id": "475ff13b",
   "metadata": {},
   "outputs": [
    {
     "name": "stdout",
     "output_type": "stream",
     "text": [
      "  school sex  age address famsize Pstatus  Medu  Fedu     Mjob      Fjob  ... famrel_por freetime_por  goout_por  Dalc_por  Walc_por health_por absences_por G1_por G2_por G3_por\n",
      "0     GP   F   18       U     GT3       A     4     4  at_home   teacher  ...          4            3          4         1         1          3            4      0     11     11\n",
      "1     GP   F   17       U     GT3       T     1     1  at_home     other  ...          5            3          3         1         1          3            2      9     11     11\n",
      "2     GP   F   15       U     LE3       T     1     1  at_home     other  ...          4            3          2         2         3          3            6     12     13     12\n",
      "3     GP   F   15       U     GT3       T     4     2   health  services  ...          3            2          2         1         1          5            0     14     14     14\n",
      "4     GP   F   16       U     GT3       T     3     3    other     other  ...          4            3          2         1         2          5            0     11     13     13\n",
      "\n",
      "[5 rows x 53 columns]\n",
      "Mean Squared Error: 1.23\n",
      "R² Score: 0.89\n",
      "\n",
      "Sample Predictions:\n",
      "Actual: 11.0  |  Predicted: 10.4\n",
      "Actual: 13.0  |  Predicted: 11.9\n",
      "Actual: 9.0  |  Predicted: 8.3\n",
      "Actual: 6.0  |  Predicted: 8.6\n",
      "Actual: 15.0  |  Predicted: 15.3\n",
      "Actual: 3.5  |  Predicted: 7.7\n",
      "Actual: 12.0  |  Predicted: 10.7\n",
      "Actual: 11.5  |  Predicted: 11.7\n",
      "Actual: 2.5  |  Predicted: 6.4\n",
      "Actual: 14.5  |  Predicted: 15.0\n"
     ]
    }
   ],
   "source": [
    "# Merge datasets\n",
    "merge_cols = [\n",
    "    \"school\", \"sex\", \"age\", \"address\", \"famsize\", \"Pstatus\",\n",
    "    \"Medu\", \"Fedu\", \"Mjob\", \"Fjob\", \"reason\", \"nursery\", \"internet\"\n",
    "]\n",
    "data = pd.merge(mat, por, on=merge_cols, suffixes=('_mat', '_por'))\n",
    "\n",
    "print(data.head())\n",
    "\n",
    "# Use average final grade as target\n",
    "data['G3'] = (data['G3_mat'] + data['G3_por']) / 2\n",
    "data.drop(columns=['G3_mat', 'G3_por'], inplace=True)\n",
    "\n",
    "# Encode categorical features\n",
    "data = pd.get_dummies(data, drop_first=True)\n",
    "\n",
    "# Split features and target\n",
    "X = data.drop(columns='G3')\n",
    "y = data['G3']\n",
    "\n",
    "# Train/test split\n",
    "X_train, X_test, y_train, y_test = train_test_split(X, y, test_size=0.2, random_state=42)\n",
    "\n",
    "# Train model\n",
    "model = RandomForestRegressor(random_state=42)\n",
    "model.fit(X_train, y_train)\n",
    "\n",
    "# Predictions\n",
    "y_pred = model.predict(X_test)\n",
    "\n",
    "# Evaluation\n",
    "mse = mean_squared_error(y_test, y_pred)\n",
    "r2 = r2_score(y_test, y_pred)\n",
    "\n",
    "print(f\"Mean Squared Error: {mse:.2f}\")\n",
    "print(f\"R² Score: {r2:.2f}\")\n",
    "print(\"\\nSample Predictions:\")\n",
    "for true, pred in list(zip(y_test, y_pred))[:10]:\n",
    "    print(f\"Actual: {true:.1f}  |  Predicted: {pred:.1f}\")\n"
   ]
  }
 ],
 "metadata": {
  "kernelspec": {
   "display_name": "Python 3",
   "language": "python",
   "name": "python3"
  },
  "language_info": {
   "codemirror_mode": {
    "name": "ipython",
    "version": 3
   },
   "file_extension": ".py",
   "mimetype": "text/x-python",
   "name": "python",
   "nbconvert_exporter": "python",
   "pygments_lexer": "ipython3",
   "version": "3.13.3"
  }
 },
 "nbformat": 4,
 "nbformat_minor": 5
}
